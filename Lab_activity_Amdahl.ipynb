{
  "nbformat": 4,
  "nbformat_minor": 0,
  "metadata": {
    "colab": {
      "provenance": [],
      "include_colab_link": true
    },
    "kernelspec": {
      "name": "python3",
      "display_name": "Python 3"
    },
    "language_info": {
      "name": "python"
    }
  },
  "cells": [
    {
      "cell_type": "markdown",
      "metadata": {
        "id": "view-in-github",
        "colab_type": "text"
      },
      "source": [
        "<a href=\"https://colab.research.google.com/github/asantefes7/CIS641-HW2-Asante/blob/main/Lab_activity_Amdahl.ipynb\" target=\"_parent\"><img src=\"https://colab.research.google.com/assets/colab-badge.svg\" alt=\"Open In Colab\"/></a>"
      ]
    },
    {
      "cell_type": "markdown",
      "source": [
        "# Lab Activity - Amdahl's law\n",
        "\n",
        "Amdahl's law (https://en.wikipedia.org/wiki/Amdahl%27s_law) provides important insight into the limits of succesful parallelization.\n",
        "\n",
        "The key observation is that parts of the execution of a program are inherently sequential and cannot be parallelized.\n",
        "So, if the parallelizable portion of the code is parallelized in a very efficient manner, the portion of the execution time that is spent on the sequential part cannot be made faster.\n",
        "\n",
        "This lab activity is very similar to what you did for your first programming project. The problem, the minimum dominating set, is the same and the code is almost identical. The only difference is that the time required to read the file is now timed separately.\n",
        "\n",
        "For the purposes of this lab activity, we will make two assumptions:\n",
        "\n",
        "\n",
        "\n",
        "1.   The code that solves the problem can be parallelized\n",
        "2.   The code that reads the input matrix cannot be parallelized\n",
        "\n",
        "Run the programs and write down the times required to read the file and to solve the problem.\n",
        "\n",
        "Use Amdahl's law to calculate the maximum speedup for each of the three test files.\n",
        "\n",
        "Notice that the maximum speedup will be higher for the larger problems,\n",
        "that is, the maximum speedup increases as the size of the problem increases.\n",
        "\n",
        "This analysis can be useful to understand the kind of theoretical execution time improvements that can be obtained by parallelizing code, depending on the nature of the code and the size of the problem.\n",
        "\n"
      ],
      "metadata": {
        "id": "sJwAS-j20gje"
      }
    },
    {
      "cell_type": "code",
      "execution_count": 2,
      "metadata": {
        "colab": {
          "base_uri": "https://localhost:8080/"
        },
        "id": "qvgRH4p9zmE6",
        "outputId": "968aa181-1466-44b2-cdec-e966fe82432e"
      },
      "outputs": [
        {
          "output_type": "stream",
          "name": "stdout",
          "text": [
            "Overwriting original_python.py\n"
          ]
        }
      ],
      "source": [
        "%%writefile original_python.py\n",
        "import sys\n",
        "import time\n",
        "import numpy as np\n",
        "\n",
        "def read_adjacency_matrix(file_name):\n",
        "  file_object = open(file_name, \"r\")\n",
        "  # Input the number of rows and columns\n",
        "  size = int(file_object.readline())\n",
        "  rows = size\n",
        "  cols = size\n",
        "  # Initialize an empty matrix\n",
        "  matrix = []\n",
        "\n",
        "  # Input the matrix elements\n",
        "  for i in range(rows):\n",
        "    row = list(map(int, file_object.readline().split()))\n",
        "    matrix.append(row)\n",
        "  return matrix,size\n",
        "\n",
        "# Convert an integer into a set of nodes\n",
        "def convert_from_int_to_set(integer,size):\n",
        "  set_of_nodes = []\n",
        "  mask = 1\n",
        "  for i in range(size):\n",
        "    if ((mask & integer) != 0):\n",
        "      set_of_nodes.append(i)\n",
        "    mask = mask * 2\n",
        "  return set_of_nodes\n",
        "\n",
        "# Find the maximum independent set\n",
        "def find_max_ind_set(adj_mat_numpy,size):\n",
        "  max_independent_set_size = 0\n",
        "  max_independent_set = []\n",
        "\n",
        "  size_of_power_set = 1\n",
        "  for i in range(size):\n",
        "    size_of_power_set *= 2\n",
        "  # print(\"The power set has \",size_of_power_set,\" elements\")\n",
        "  array_with_sizes = np.zeros(size_of_power_set)\n",
        "  for i in range(size_of_power_set):\n",
        "    this_set = convert_from_int_to_set(i,size)\n",
        "    is_independent = True\n",
        "    for n1 in this_set:\n",
        "      for n2 in this_set:\n",
        "        if (adj_mat_numpy[n1][n2] == 1):\n",
        "          is_independent = False\n",
        "    if (is_independent):\n",
        "      array_with_sizes[i] = len(this_set)\n",
        "    else:\n",
        "      array_with_sizes[i] = 0\n",
        "\n",
        "\n",
        "  max_independent_set_size = np.max(array_with_sizes)\n",
        "  max_independent_set = np.where(array_with_sizes == max_independent_set_size)[0]\n",
        "  # print(\"The max independent sets are encoded by: \",max_independent_set)\n",
        "  return max_independent_set_size\n",
        "\n",
        "\n",
        "\n",
        "if __name__ == \"__main__\":\n",
        "# Read the content of the file with the a passed in the command line\n",
        "# that contain the matrices to be multiplied\n",
        "  start_read_file = time.time()\n",
        "  adj_matrix,size = read_adjacency_matrix(sys.argv[1])\n",
        "  adj_matrix_numpy = np.array(adj_matrix)\n",
        "  end_read_file = time.time()\n",
        "  elapsed_read_file = end_read_file - start_read_file\n",
        "  print(\"Time required to read the file in python: \",elapsed_read_file)\n",
        "  start_time = time.time()\n",
        "  max_independent_set_size = find_max_ind_set(adj_matrix_numpy,size)\n",
        "  end_time = time.time()\n",
        "  elapsed_time = end_time - start_time\n",
        "  print(\"Time required to complete the computation in python: \",elapsed_time)\n",
        "  # print(\"The size of the maximum independent set is: \",max_independent_set_size)"
      ]
    },
    {
      "cell_type": "markdown",
      "source": [],
      "metadata": {
        "id": "fne5fDyJz94s"
      }
    },
    {
      "cell_type": "code",
      "source": [
        "%%writefile k16.txt\n",
        "16\n",
        "0 1 1 1 1 1 1 1 1 1 1 1 1 1 1 1\n",
        "1 0 1 1 1 1 1 1 1 1 1 1 1 1 1 1\n",
        "1 1 0 1 1 1 1 1 1 1 1 1 1 1 1 1\n",
        "1 1 1 0 1 1 1 1 1 1 1 1 1 1 1 1\n",
        "1 1 1 1 0 1 1 1 1 1 1 1 1 1 1 1\n",
        "1 1 1 1 1 0 1 1 1 1 1 1 1 1 1 1\n",
        "1 1 1 1 1 1 0 1 1 1 1 1 1 1 1 1\n",
        "1 1 1 1 1 1 1 0 1 1 1 1 1 1 1 1\n",
        "1 1 1 1 1 1 1 1 0 1 1 1 1 1 1 1\n",
        "1 1 1 1 1 1 1 1 1 0 1 1 1 1 1 1\n",
        "1 1 1 1 1 1 1 1 1 1 0 1 1 1 1 1\n",
        "1 1 1 1 1 1 1 1 1 1 1 0 1 1 1 1\n",
        "1 1 1 1 1 1 1 1 1 1 1 1 0 1 1 1\n",
        "1 1 1 1 1 1 1 1 1 1 1 1 1 0 1 1\n",
        "1 1 1 1 1 1 1 1 1 1 1 1 1 1 0 1\n",
        "1 1 1 1 1 1 1 1 1 1 1 1 1 1 1 0"
      ],
      "metadata": {
        "colab": {
          "base_uri": "https://localhost:8080/"
        },
        "id": "6hz-yLC9z-vJ",
        "outputId": "cb665992-c3d5-4ad7-c647-2b8b43a3acc0"
      },
      "execution_count": 6,
      "outputs": [
        {
          "output_type": "stream",
          "name": "stdout",
          "text": [
            "Overwriting k16.txt\n"
          ]
        }
      ]
    },
    {
      "cell_type": "code",
      "source": [
        "%%writefile k18.txt\n",
        "18\n",
        "0 1 1 1 1 1 1 1 1 1 1 1 1 1 1 1 1 1\n",
        "1 0 1 1 1 1 1 1 1 1 1 1 1 1 1 1 1 1\n",
        "1 1 0 1 1 1 1 1 1 1 1 1 1 1 1 1 1 1\n",
        "1 1 1 0 1 1 1 1 1 1 1 1 1 1 1 1 1 1\n",
        "1 1 1 1 0 1 1 1 1 1 1 1 1 1 1 1 1 1\n",
        "1 1 1 1 1 0 1 1 1 1 1 1 1 1 1 1 1 1\n",
        "1 1 1 1 1 1 0 1 1 1 1 1 1 1 1 1 1 1\n",
        "1 1 1 1 1 1 1 0 1 1 1 1 1 1 1 1 1 1\n",
        "1 1 1 1 1 1 1 1 0 1 1 1 1 1 1 1 1 1\n",
        "1 1 1 1 1 1 1 1 1 0 1 1 1 1 1 1 1 1\n",
        "1 1 1 1 1 1 1 1 1 1 0 1 1 1 1 1 1 1\n",
        "1 1 1 1 1 1 1 1 1 1 1 0 1 1 1 1 1 1\n",
        "1 1 1 1 1 1 1 1 1 1 1 1 0 1 1 1 1 1\n",
        "1 1 1 1 1 1 1 1 1 1 1 1 1 0 1 1 1 1\n",
        "1 1 1 1 1 1 1 1 1 1 1 1 1 1 0 1 1 1\n",
        "1 1 1 1 1 1 1 1 1 1 1 1 1 1 1 0 1 1\n",
        "1 1 1 1 1 1 1 1 1 1 1 1 1 1 1 1 0 1\n",
        "1 1 1 1 1 1 1 1 1 1 1 1 1 1 1 1 1 0"
      ],
      "metadata": {
        "colab": {
          "base_uri": "https://localhost:8080/"
        },
        "id": "cBZ-68s90CRa",
        "outputId": "8efd337e-3b0f-4238-c048-7ce44b149b91"
      },
      "execution_count": 7,
      "outputs": [
        {
          "output_type": "stream",
          "name": "stdout",
          "text": [
            "Writing k18.txt\n"
          ]
        }
      ]
    },
    {
      "cell_type": "code",
      "source": [
        "%%writefile k20.txt\n",
        "20\n",
        "0 1 1 1 1 1 1 1 1 1 1 1 1 1 1 1 1 1 1 1\n",
        "1 0 1 1 1 1 1 1 1 1 1 1 1 1 1 1 1 1 1 1\n",
        "1 1 0 1 1 1 1 1 1 1 1 1 1 1 1 1 1 1 1 1\n",
        "1 1 1 0 1 1 1 1 1 1 1 1 1 1 1 1 1 1 1 1\n",
        "1 1 1 1 0 1 1 1 1 1 1 1 1 1 1 1 1 1 1 1\n",
        "1 1 1 1 1 0 1 1 1 1 1 1 1 1 1 1 1 1 1 1\n",
        "1 1 1 1 1 1 0 1 1 1 1 1 1 1 1 1 1 1 1 1\n",
        "1 1 1 1 1 1 1 0 1 1 1 1 1 1 1 1 1 1 1 1\n",
        "1 1 1 1 1 1 1 1 0 1 1 1 1 1 1 1 1 1 1 1\n",
        "1 1 1 1 1 1 1 1 1 0 1 1 1 1 1 1 1 1 1 1\n",
        "1 1 1 1 1 1 1 1 1 1 0 1 1 1 1 1 1 1 1 1\n",
        "1 1 1 1 1 1 1 1 1 1 1 0 1 1 1 1 1 1 1 1\n",
        "1 1 1 1 1 1 1 1 1 1 1 1 0 1 1 1 1 1 1 1\n",
        "1 1 1 1 1 1 1 1 1 1 1 1 1 0 1 1 1 1 1 1\n",
        "1 1 1 1 1 1 1 1 1 1 1 1 1 1 0 1 1 1 1 1\n",
        "1 1 1 1 1 1 1 1 1 1 1 1 1 1 1 0 1 1 1 1\n",
        "1 1 1 1 1 1 1 1 1 1 1 1 1 1 1 1 0 1 1 1\n",
        "1 1 1 1 1 1 1 1 1 1 1 1 1 1 1 1 1 0 1 1\n",
        "1 1 1 1 1 1 1 1 1 1 1 1 1 1 1 1 1 1 0 1\n",
        "1 1 1 1 1 1 1 1 1 1 1 1 1 1 1 1 1 1 1 0"
      ],
      "metadata": {
        "colab": {
          "base_uri": "https://localhost:8080/"
        },
        "id": "nrepe3eJ0F26",
        "outputId": "c98dbb8b-94b5-493c-d8ac-100b6d79797d"
      },
      "execution_count": 8,
      "outputs": [
        {
          "output_type": "stream",
          "name": "stdout",
          "text": [
            "Writing k20.txt\n"
          ]
        }
      ]
    },
    {
      "cell_type": "code",
      "source": [
        "\n",
        "!python original_python.py k16.txt"
      ],
      "metadata": {
        "colab": {
          "base_uri": "https://localhost:8080/"
        },
        "id": "5MWN6oDT0PA5",
        "outputId": "d2fb2f6b-aaec-41eb-9adc-23ecaa581f9d"
      },
      "execution_count": 9,
      "outputs": [
        {
          "output_type": "stream",
          "name": "stdout",
          "text": [
            "Time required to read the file in python:  0.0002830028533935547\n",
            "Time required to complete the computation in python:  1.6689965724945068\n"
          ]
        }
      ]
    },
    {
      "cell_type": "code",
      "source": [
        "\n",
        "!python original_python.py k18.txt"
      ],
      "metadata": {
        "colab": {
          "base_uri": "https://localhost:8080/"
        },
        "id": "c8BdCr7Q0SGZ",
        "outputId": "2fbcb025-4903-4bf1-8ce0-5337eb262f0d"
      },
      "execution_count": 10,
      "outputs": [
        {
          "output_type": "stream",
          "name": "stdout",
          "text": [
            "Time required to read the file in python:  0.00037598609924316406\n",
            "Time required to complete the computation in python:  9.083199739456177\n"
          ]
        }
      ]
    },
    {
      "cell_type": "code",
      "source": [
        "\n",
        "!python original_python.py k20.txt"
      ],
      "metadata": {
        "colab": {
          "base_uri": "https://localhost:8080/"
        },
        "id": "_qMRkNIj0X8i",
        "outputId": "c2647256-ba61-4f65-c70f-72ae1b318f97"
      },
      "execution_count": 11,
      "outputs": [
        {
          "output_type": "stream",
          "name": "stdout",
          "text": [
            "Time required to read the file in python:  0.0003399848937988281\n",
            "Time required to complete the computation in python:  43.98062181472778\n"
          ]
        }
      ]
    },
    {
      "cell_type": "markdown",
      "source": [
        "For k16.txt\n",
        "\n",
        "$ T_{\\text{read}} = 0.0002830028533935547 $ seconds\n",
        "$ T_{\\text{compute}} = 1.6689965724945068 $ seconds\n",
        "\n",
        "Total time: $ T_{\\text{total}} = T_{\\text{read}} + T_{\\text{compute}} = 0.0002830028533935547 + 1.6689965724945068 = 1.6692795753479004 $ seconds\n",
        "\n",
        "Sequential fraction: $ f_s = \\frac{T_{\\text{read}}}{T_{\\text{total}}} = \\frac{0.0002830028533935547}{1.6692795753479004} \\approx 0.000169578 $\n",
        "\n",
        "Maximum speedup: $ S_{\\text{max}} = \\frac{1}{f_s} = \\frac{1}{0.000169578} \\approx 5897.44 $\n",
        "\n",
        "\n",
        "\n",
        "\n",
        "For k18.txt\n",
        "\n",
        "$ T_{\\text{read}} = 0.00037598609924316406 $ seconds\n",
        "\n",
        "$ T_{\\text{compute}} = 9.083199739456177 $ seconds\n",
        "\n",
        "Total time: $ T_{\\text{total}} = 0.00037598609924316406 + 9.083199739456177 = 9.08357572555542 $ seconds\n",
        "\n",
        "Sequential fraction: $ f_s = \\frac{0.00037598609924316406}{9.08357572555542} \\approx 0.000041395 $\n",
        "\n",
        "Maximum speedup: $ S_{\\text{max}} = \\frac{1}{f_s} = \\frac{1}{0.000041395} \\approx 24157.67 $\n",
        "\n",
        "\n",
        "\n",
        "\n",
        "For k20.txt\n",
        "\n",
        "$ T_{\\text{read}} = 0.0003399848937988281 $ seconds\n",
        "\n",
        "$ T_{\\text{compute}} = 43.98062181472778 $ seconds\n",
        "\n",
        "Total time: $ T_{\\text{total}} = 0.0003399848937988281 + 43.98062181472778 = 43.98096179962158 $ seconds\n",
        "\n",
        "Sequential fraction: $ f_s = \\frac{0.0003399848937988281}{43.98096179962158} \\approx 0.000007732 $\n",
        "\n",
        "Maximum speedup: $ S_{\\text{max}} = \\frac{1}{f_s} = \\frac{1}{0.000007732} \\approx 129333.96 $\n",
        "\n"
      ],
      "metadata": {
        "id": "2-iDYfKPeM7z"
      }
    }
  ]
}